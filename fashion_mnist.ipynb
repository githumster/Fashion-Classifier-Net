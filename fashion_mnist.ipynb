{
 "cells": [
  {
   "cell_type": "code",
   "execution_count": 8,
   "metadata": {},
   "outputs": [
    {
     "name": "stdout",
     "output_type": "stream",
     "text": [
      "The autoreload extension is already loaded. To reload it, use:\n",
      "  %reload_ext autoreload\n"
     ]
    }
   ],
   "source": [
    "%load_ext autoreload\n",
    "%autoreload 2\n",
    "\n",
    "import numpy as np\n",
    "import matplotlib.pyplot as plt\n",
    "import os\n",
    "import cv2\n",
    "from tqdm import tqdm\n",
    "\n",
    "from modules import *\n"
   ]
  },
  {
   "cell_type": "code",
   "execution_count": 2,
   "metadata": {},
   "outputs": [],
   "source": [
    "def load_mnist_dataset(dataset, path):\n",
    "\n",
    "    # Scan all the directories and create a list of labels\n",
    "    labels = os.listdir(os.path.join(path, dataset))\n",
    "\n",
    "    # Create lists for samples and labels\n",
    "    X = []\n",
    "    y = []\n",
    "\n",
    "\n",
    "    # For each label folder\n",
    "    for label in labels:\n",
    "        # And for each image in given folder\n",
    "        for file in os.listdir(os.path.join(path, dataset, label)):\n",
    "            # Read the image\n",
    "            image = cv2.imread(\n",
    "                        os.path.join(path, dataset, label, file),\n",
    "                        cv2.IMREAD_UNCHANGED)\n",
    "\n",
    "            # And append it and a label to the lists\n",
    "            X.append(image)\n",
    "            y.append(label)\n",
    "\n",
    "    # Convert the data to proper numpy arrays and return\n",
    "    return np.array(X), np.array(y).astype('uint8')\n",
    "\n",
    "\n",
    "# MNIST dataset (train + test)\n",
    "def create_data_mnist(path):\n",
    "\n",
    "    # Load both sets separately\n",
    "    X, y = load_mnist_dataset('train', path)\n",
    "    X_test, y_test = load_mnist_dataset('test', path)\n",
    "\n",
    "    # And return all the data\n",
    "    return X, y, X_test, y_test\n",
    "\n",
    "\n",
    "# Create dataset\n",
    "X, y, X_test, y_test = create_data_mnist('fashion_mnist_images')\n",
    "\n",
    "# Shuffle the training dataset\n",
    "keys = np.array(range(X.shape[0]))\n",
    "np.random.shuffle(keys)\n",
    "X = X[keys]\n",
    "y = y[keys]\n",
    "\n",
    "# Scale and reshape samples\n",
    "X = (X.reshape(X.shape[0], -1).astype(np.float32) - 127.5) / 127.5\n",
    "X_test = (X_test.reshape(X_test.shape[0], -1).astype(np.float32) -\n",
    "             127.5) / 127.5"
   ]
  },
  {
   "cell_type": "code",
   "execution_count": 3,
   "metadata": {},
   "outputs": [],
   "source": [
    "class MLP(Module):\n",
    "    def __init__(self, in_features, num_classes, hidden_size):\n",
    "        super().__init__()\n",
    "        self.model = Sequential(\n",
    "            Linear(in_features, hidden_size),\n",
    "            BatchNormalization(),\n",
    "            ReLU(),\n",
    "            Linear(hidden_size, hidden_size),\n",
    "            ReLU(),\n",
    "            Linear(hidden_size, num_classes),\n",
    "            LogSoftMax(),\n",
    "        )\n",
    "    \n",
    "    \n",
    "    def forward(self, x):\n",
    "        return self.model(x)"
   ]
  },
  {
   "cell_type": "code",
   "execution_count": 4,
   "metadata": {},
   "outputs": [],
   "source": [
    "IMG_SIZE = 28\n",
    "NUM_CLASSES = 10\n",
    "HIDDEN_SIZE = 128\n",
    "NUM_EPOCHS = 10\n",
    "\n",
    "BATCH_SIZE = 128\n",
    "\n",
    "criterian = ClassNLLCriterion()\n",
    "\n",
    "mlp = MLP(IMG_SIZE**2, NUM_CLASSES, HIDDEN_SIZE)"
   ]
  },
  {
   "cell_type": "code",
   "execution_count": 5,
   "metadata": {},
   "outputs": [],
   "source": [
    "def plot_metrics(train_accuracies, train_losses, val_accuracies, val_losses, epochs):\n",
    "    plt.figure(figsize=(12, 6))\n",
    "\n",
    "    # Plot accuracy\n",
    "    plt.subplot(1, 2, 1)\n",
    "    plt.plot(range(1, epochs + 1), train_accuracies, label='Train Accuracy', marker='o')\n",
    "    plt.plot(range(1, epochs + 1), val_accuracies, label='Validation Accuracy', marker='o')\n",
    "    plt.xlabel('Epoch')\n",
    "    plt.ylabel('Accuracy')\n",
    "    plt.legend()\n",
    "    plt.grid(True)\n",
    "\n",
    "    # Plot loss\n",
    "    plt.subplot(1, 2, 2)\n",
    "    plt.plot(range(1, epochs + 1), train_losses, label='Train Loss', marker='o')\n",
    "    plt.plot(range(1, epochs + 1), val_losses, label='Validation Loss', marker='o')\n",
    "    plt.xlabel('Epoch')\n",
    "    plt.ylabel('Loss')\n",
    "    plt.legend()\n",
    "    plt.grid(True)\n",
    "\n",
    "    plt.tight_layout()\n",
    "    plt.show()\n"
   ]
  },
  {
   "cell_type": "code",
   "execution_count": 6,
   "metadata": {},
   "outputs": [],
   "source": [
    "import numpy as np\n",
    "import matplotlib.pyplot as plt\n",
    "from tqdm import tqdm\n",
    "\n",
    "def train(model, X, y, *, epochs=1, batch_size=None, print_every=1, validation_data=None, config=None):\n",
    "    # Initialize state object for storing previous gradients\n",
    "    state = {}\n",
    "    \n",
    "    # Lists to store training and validation metrics\n",
    "    train_accuracies = []\n",
    "    train_losses = []\n",
    "    val_accuracies = []\n",
    "    val_losses = []\n",
    "\n",
    "    # Main training loop for epochs\n",
    "    for epoch in range(1, epochs + 1):\n",
    "        print(f'Epoch {epoch}/{epochs}:')\n",
    "\n",
    "        # Shuffle data at the beginning of each epoch\n",
    "        if batch_size is not None:\n",
    "            indices = np.arange(X.shape[0])\n",
    "            np.random.shuffle(indices)\n",
    "            X = X[indices]\n",
    "            y = y[indices]\n",
    "\n",
    "        # Calculate the number of training steps\n",
    "        train_steps = len(X) // batch_size if batch_size else 1\n",
    "        if batch_size and len(X) % batch_size != 0:\n",
    "            train_steps += 1\n",
    "\n",
    "        # Initialize metrics for this epoch\n",
    "        epoch_train_loss = 0\n",
    "        epoch_train_accuracy = 0\n",
    "\n",
    "        # Progress bar for training steps\n",
    "        with tqdm(total=train_steps, desc=f\"Training\", unit=\"step\") as pbar:\n",
    "            for step in range(train_steps):\n",
    "                model.train()\n",
    "                # Prepare the mini-batch\n",
    "                if batch_size is None:\n",
    "                    batch_X = X\n",
    "                    batch_y = y\n",
    "                else:\n",
    "                    batch_X = X[step * batch_size:(step + 1) * batch_size]\n",
    "                    batch_y = y[step * batch_size:(step + 1) * batch_size]\n",
    "\n",
    "                # Forward pass\n",
    "                output = model.model.forward(batch_X)\n",
    "                loss = criterian.forward(output, batch_y)\n",
    "                \n",
    "                # Backward pass\n",
    "                grad_output = criterian.backward(output, batch_y)\n",
    "                grad_input = model.model.backward(batch_X, grad_output)\n",
    "                \n",
    "                # Update the parameters\n",
    "                sgd_momentum(model.model.getParameters(), model.model.getGradParameters(), config, state)\n",
    "\n",
    "                # Update metrics\n",
    "                predictions = np.argmax(output, axis=1)\n",
    "                accuracy = np.mean(predictions == batch_y)\n",
    "                epoch_train_loss += loss\n",
    "                epoch_train_accuracy += accuracy\n",
    "                \n",
    "                if not step % print_every or step == train_steps - 1:\n",
    "                    pbar.set_postfix(accuracy=f'{accuracy:.3f}', loss=f'{loss:.3f}')\n",
    "\n",
    "                pbar.update(1)\n",
    "\n",
    "        # Average metrics for this epoch\n",
    "        avg_train_loss = epoch_train_loss / train_steps\n",
    "        avg_train_accuracy = epoch_train_accuracy / train_steps\n",
    "        train_losses.append(avg_train_loss)\n",
    "        train_accuracies.append(avg_train_accuracy)\n",
    "\n",
    "        # Validation at the end of each epoch, if validation data is provided\n",
    "        if validation_data is not None:\n",
    "            model.evaluate()\n",
    "            X_val, y_val = validation_data\n",
    "            val_output = model.model.forward(X_val)\n",
    "            val_loss = criterian.forward(val_output, y_val)\n",
    "            val_predictions = np.argmax(val_output, axis=1)\n",
    "            val_accuracy = np.mean(val_predictions == y_val)\n",
    "\n",
    "            val_losses.append(val_loss)\n",
    "            val_accuracies.append(val_accuracy)\n",
    "            print(f'Validation - Accuracy: {val_accuracy:.3f}, Loss: {val_loss:.3f}')\n",
    "\n",
    "        print('-' * 50)\n",
    "\n",
    "    plot_metrics(train_accuracies, train_losses, val_accuracies, val_losses, epochs)"
   ]
  },
  {
   "cell_type": "code",
   "execution_count": 7,
   "metadata": {},
   "outputs": [
    {
     "name": "stdout",
     "output_type": "stream",
     "text": [
      "Epoch 1/20:\n"
     ]
    },
    {
     "name": "stderr",
     "output_type": "stream",
     "text": [
      "Training: 100%|██████████| 469/469 [00:04<00:00, 95.86step/s, accuracy=0.844, loss=0.393] \n"
     ]
    },
    {
     "name": "stdout",
     "output_type": "stream",
     "text": [
      "Validation - Accuracy: 0.850, Loss: 0.417\n",
      "--------------------------------------------------\n",
      "Epoch 2/20:\n"
     ]
    },
    {
     "name": "stderr",
     "output_type": "stream",
     "text": [
      "Training: 100%|██████████| 469/469 [00:03<00:00, 120.82step/s, accuracy=0.802, loss=0.541]\n"
     ]
    },
    {
     "name": "stdout",
     "output_type": "stream",
     "text": [
      "Validation - Accuracy: 0.865, Loss: 0.375\n",
      "--------------------------------------------------\n",
      "Epoch 3/20:\n"
     ]
    },
    {
     "name": "stderr",
     "output_type": "stream",
     "text": [
      "Training: 100%|██████████| 469/469 [00:03<00:00, 120.79step/s, accuracy=0.844, loss=0.476]\n"
     ]
    },
    {
     "name": "stdout",
     "output_type": "stream",
     "text": [
      "Validation - Accuracy: 0.870, Loss: 0.354\n",
      "--------------------------------------------------\n",
      "Epoch 4/20:\n"
     ]
    },
    {
     "name": "stderr",
     "output_type": "stream",
     "text": [
      "Training: 100%|██████████| 469/469 [00:03<00:00, 124.77step/s, accuracy=0.875, loss=0.399]\n"
     ]
    },
    {
     "name": "stdout",
     "output_type": "stream",
     "text": [
      "Validation - Accuracy: 0.872, Loss: 0.344\n",
      "--------------------------------------------------\n",
      "Epoch 5/20:\n"
     ]
    },
    {
     "name": "stderr",
     "output_type": "stream",
     "text": [
      "Training: 100%|██████████| 469/469 [00:03<00:00, 121.19step/s, accuracy=0.906, loss=0.276]\n"
     ]
    },
    {
     "name": "stdout",
     "output_type": "stream",
     "text": [
      "Validation - Accuracy: 0.874, Loss: 0.351\n",
      "--------------------------------------------------\n",
      "Epoch 6/20:\n"
     ]
    },
    {
     "name": "stderr",
     "output_type": "stream",
     "text": [
      "Training: 100%|██████████| 469/469 [00:03<00:00, 120.59step/s, accuracy=0.938, loss=0.205]\n"
     ]
    },
    {
     "name": "stdout",
     "output_type": "stream",
     "text": [
      "Validation - Accuracy: 0.878, Loss: 0.337\n",
      "--------------------------------------------------\n",
      "Epoch 7/20:\n"
     ]
    },
    {
     "name": "stderr",
     "output_type": "stream",
     "text": [
      "Training: 100%|██████████| 469/469 [00:03<00:00, 121.21step/s, accuracy=0.875, loss=0.293]\n"
     ]
    },
    {
     "name": "stdout",
     "output_type": "stream",
     "text": [
      "Validation - Accuracy: 0.880, Loss: 0.333\n",
      "--------------------------------------------------\n",
      "Epoch 8/20:\n"
     ]
    },
    {
     "name": "stderr",
     "output_type": "stream",
     "text": [
      "Training: 100%|██████████| 469/469 [00:03<00:00, 123.99step/s, accuracy=0.917, loss=0.252]\n"
     ]
    },
    {
     "name": "stdout",
     "output_type": "stream",
     "text": [
      "Validation - Accuracy: 0.880, Loss: 0.328\n",
      "--------------------------------------------------\n",
      "Epoch 9/20:\n"
     ]
    },
    {
     "name": "stderr",
     "output_type": "stream",
     "text": [
      "Training: 100%|██████████| 469/469 [00:03<00:00, 119.37step/s, accuracy=0.906, loss=0.251]\n"
     ]
    },
    {
     "name": "stdout",
     "output_type": "stream",
     "text": [
      "Validation - Accuracy: 0.875, Loss: 0.341\n",
      "--------------------------------------------------\n",
      "Epoch 10/20:\n"
     ]
    },
    {
     "name": "stderr",
     "output_type": "stream",
     "text": [
      "Training: 100%|██████████| 469/469 [00:03<00:00, 130.58step/s, accuracy=0.823, loss=0.472]\n"
     ]
    },
    {
     "name": "stdout",
     "output_type": "stream",
     "text": [
      "Validation - Accuracy: 0.884, Loss: 0.326\n",
      "--------------------------------------------------\n",
      "Epoch 11/20:\n"
     ]
    },
    {
     "name": "stderr",
     "output_type": "stream",
     "text": [
      "Training: 100%|██████████| 469/469 [00:03<00:00, 124.01step/s, accuracy=0.979, loss=0.101]\n"
     ]
    },
    {
     "name": "stdout",
     "output_type": "stream",
     "text": [
      "Validation - Accuracy: 0.883, Loss: 0.325\n",
      "--------------------------------------------------\n",
      "Epoch 12/20:\n"
     ]
    },
    {
     "name": "stderr",
     "output_type": "stream",
     "text": [
      "Training: 100%|██████████| 469/469 [00:03<00:00, 119.06step/s, accuracy=0.958, loss=0.121]\n"
     ]
    },
    {
     "name": "stdout",
     "output_type": "stream",
     "text": [
      "Validation - Accuracy: 0.887, Loss: 0.327\n",
      "--------------------------------------------------\n",
      "Epoch 13/20:\n"
     ]
    },
    {
     "name": "stderr",
     "output_type": "stream",
     "text": [
      "Training: 100%|██████████| 469/469 [00:04<00:00, 115.25step/s, accuracy=0.958, loss=0.142]\n"
     ]
    },
    {
     "name": "stdout",
     "output_type": "stream",
     "text": [
      "Validation - Accuracy: 0.891, Loss: 0.319\n",
      "--------------------------------------------------\n",
      "Epoch 14/20:\n"
     ]
    },
    {
     "name": "stderr",
     "output_type": "stream",
     "text": [
      "Training: 100%|██████████| 469/469 [00:03<00:00, 126.09step/s, accuracy=0.917, loss=0.255]\n"
     ]
    },
    {
     "name": "stdout",
     "output_type": "stream",
     "text": [
      "Validation - Accuracy: 0.891, Loss: 0.323\n",
      "--------------------------------------------------\n",
      "Epoch 15/20:\n"
     ]
    },
    {
     "name": "stderr",
     "output_type": "stream",
     "text": [
      "Training: 100%|██████████| 469/469 [00:03<00:00, 125.69step/s, accuracy=0.938, loss=0.196]\n"
     ]
    },
    {
     "name": "stdout",
     "output_type": "stream",
     "text": [
      "Validation - Accuracy: 0.889, Loss: 0.320\n",
      "--------------------------------------------------\n",
      "Epoch 16/20:\n"
     ]
    },
    {
     "name": "stderr",
     "output_type": "stream",
     "text": [
      "Training: 100%|██████████| 469/469 [00:03<00:00, 123.45step/s, accuracy=0.906, loss=0.178]\n"
     ]
    },
    {
     "name": "stdout",
     "output_type": "stream",
     "text": [
      "Validation - Accuracy: 0.891, Loss: 0.320\n",
      "--------------------------------------------------\n",
      "Epoch 17/20:\n"
     ]
    },
    {
     "name": "stderr",
     "output_type": "stream",
     "text": [
      "Training: 100%|██████████| 469/469 [00:03<00:00, 121.91step/s, accuracy=0.917, loss=0.147]\n"
     ]
    },
    {
     "name": "stdout",
     "output_type": "stream",
     "text": [
      "Validation - Accuracy: 0.889, Loss: 0.340\n",
      "--------------------------------------------------\n",
      "Epoch 18/20:\n"
     ]
    },
    {
     "name": "stderr",
     "output_type": "stream",
     "text": [
      "Training: 100%|██████████| 469/469 [00:04<00:00, 115.20step/s, accuracy=0.917, loss=0.153]\n"
     ]
    },
    {
     "name": "stdout",
     "output_type": "stream",
     "text": [
      "Validation - Accuracy: 0.882, Loss: 0.353\n",
      "--------------------------------------------------\n",
      "Epoch 19/20:\n"
     ]
    },
    {
     "name": "stderr",
     "output_type": "stream",
     "text": [
      "Training: 100%|██████████| 469/469 [00:03<00:00, 123.05step/s, accuracy=0.958, loss=0.121]\n"
     ]
    },
    {
     "name": "stdout",
     "output_type": "stream",
     "text": [
      "Validation - Accuracy: 0.879, Loss: 0.366\n",
      "--------------------------------------------------\n",
      "Epoch 20/20:\n"
     ]
    },
    {
     "name": "stderr",
     "output_type": "stream",
     "text": [
      "Training: 100%|██████████| 469/469 [00:03<00:00, 123.82step/s, accuracy=0.958, loss=0.114]\n"
     ]
    },
    {
     "name": "stdout",
     "output_type": "stream",
     "text": [
      "Validation - Accuracy: 0.889, Loss: 0.334\n",
      "--------------------------------------------------\n"
     ]
    },
    {
     "data": {
      "image/png": "[encoded data removed]",
      "text/plain": [
       "<Figure size 1200x600 with 2 Axes>"
      ]
     },
     "metadata": {},
     "output_type": "display_data"
    }
   ],
   "source": [
    "config = {\n",
    "    'learning_rate': 0.01,\n",
    "    'momentum': 0.9\n",
    "}\n",
    "\n",
    "\n",
    "train(mlp, X, y, epochs=NUM_EPOCHS, batch_size=BATCH_SIZE, print_every=100, validation_data=(X_test, y_test), config=config)"
   ]
  }
 ],
 "metadata": {
  "kernelspec": {
   "display_name": "Python 3",
   "language": "python",
   "name": "python3"
  },
  "language_info": {
   "codemirror_mode": {
    "name": "ipython",
    "version": 3
   },
   "file_extension": ".py",
   "mimetype": "text/x-python",
   "name": "python",
   "nbconvert_exporter": "python",
   "pygments_lexer": "ipython3",
   "version": "3.10.12"
  }
 },
 "nbformat": 4,
 "nbformat_minor": 2
}
